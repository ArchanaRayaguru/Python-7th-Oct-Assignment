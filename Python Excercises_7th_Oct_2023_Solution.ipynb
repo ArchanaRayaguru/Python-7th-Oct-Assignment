{
 "cells": [
  {
   "cell_type": "markdown",
   "id": "c0bc7362",
   "metadata": {},
   "source": [
    "#### IF Statement"
   ]
  },
  {
   "cell_type": "code",
   "execution_count": 33,
   "id": "8bc76a93",
   "metadata": {},
   "outputs": [
    {
     "name": "stdout",
     "output_type": "stream",
     "text": [
      "Enter an integer: 3\n",
      "3 is odd.\n"
     ]
    }
   ],
   "source": [
    "### 1.Write a program that reads an integer from the user. Then your program should display a message indicating whether the integer is even or odd. ###\n",
    "num = int(input(\"Enter an integer: \"))\n",
    "if num % 2 == 0:\n",
    "    print(f\"{num} is even.\")\n",
    "else:\n",
    "    print(f\"{num} is odd.\")"
   ]
  },
  {
   "cell_type": "code",
   "execution_count": 40,
   "id": "065d93de",
   "metadata": {},
   "outputs": [
    {
     "name": "stdout",
     "output_type": "stream",
     "text": [
      "Input a dog age in human years: 7\n",
      "The dog age is 41\n"
     ]
    }
   ],
   "source": [
    "### 2.Write a program that implements the conversion from human years to dog years described in the previous paragraph. Ensure that your program works correctly for conversions of less than two human years and for conversions of two or more human years. Your program should display an appropriate error message if the user enters a negative number. ####\n",
    "human_age = int(input('Input a dog age in human years: '))\n",
    "if human_age < 0 :\n",
    "    print(\"Age must be positive number\")\n",
    "\n",
    "elif human_age <= 2:\n",
    "    dog_age = human_age * 10.5\n",
    "else:\n",
    "    dog_age = 21 +(human_age - 2)* 4\n",
    "print(\"The dog age is {}\".format(dog_age))"
   ]
  },
  {
   "cell_type": "code",
   "execution_count": 43,
   "id": "d723359a",
   "metadata": {},
   "outputs": [
    {
     "name": "stdout",
     "output_type": "stream",
     "text": [
      "Insert a letter: u\n",
      "Its a Vowel\n"
     ]
    }
   ],
   "source": [
    "## 3.\n",
    "letter = input(\"Insert a letter: \")\n",
    "\n",
    "if letter == \"a\" or letter == \"e\" or letter == \"i\" or letter == \"o\" or letter == \"u\":\n",
    "    print(\"Its a Vowel\")"
   ]
  },
  {
   "cell_type": "code",
   "execution_count": 44,
   "id": "127ef041",
   "metadata": {},
   "outputs": [
    {
     "name": "stdout",
     "output_type": "stream",
     "text": [
      "Enter sides of shape to determine its name.\n",
      "Enter number of sides: 8\n",
      "\n",
      "Octagon is the shape which have 8 sides.\n"
     ]
    }
   ],
   "source": [
    "## 4.\n",
    "def name_that_shape(side):\n",
    "    \n",
    "    if side == 3:\n",
    "        side = \"Triangle\"\n",
    "    \n",
    "    elif side == 4:\n",
    "        side = \"Square\"\n",
    "    \n",
    "    elif side == 5:\n",
    "        side = \"Pentagon\"\n",
    "    \n",
    "    elif side == 6:\n",
    "        side = \"Hexagon\"\n",
    "    \n",
    "    elif side == 7:\n",
    "        side = \"Heptagon\"\n",
    "\n",
    "    elif side == 8:\n",
    "        side = \"Octagon\"\n",
    "    \n",
    "    elif side == 9:\n",
    "        side = \"Nonagon\"\n",
    "\n",
    "    elif side == 10:\n",
    "        side = \"Decagon\"\n",
    "    \n",
    "    return side\n",
    "\n",
    "print(\"Enter sides of shape to determine its name.\")\n",
    "side = input(\"Enter number of sides: \")\n",
    "\n",
    "try:\n",
    "    side = float(side)\n",
    "\n",
    "except:\n",
    "    side = -1\n",
    "\n",
    "if side <= 0:\n",
    "    print()\n",
    "    print(\"You entered wrong input.\")\n",
    "    print(\"Please enter numbers only.\")\n",
    "\n",
    "elif side == 1 or side == 2 or side > 10:\n",
    "    if side == 1:\n",
    "        print(\"There is no shape with only one side.\")\n",
    "        print(\"I think you ask for a circle.\")\n",
    "    \n",
    "    elif side == 2:\n",
    "        print(\"There is no shape with two sides.\")\n",
    "    \n",
    "    elif side > 10:\n",
    "        side = int(side)\n",
    "        print(\"There is no shape with %d sides.\"%side)\n",
    "\n",
    "else:\n",
    "    \n",
    "    print()\n",
    "    print(str(name_that_shape(side)) + \" is the shape which have \" + str(int(side)) + \" sides.\")"
   ]
  },
  {
   "cell_type": "code",
   "execution_count": 46,
   "id": "945b3cdb",
   "metadata": {},
   "outputs": [
    {
     "name": "stdout",
     "output_type": "stream",
     "text": [
      "List of months: January, February, March, April, May, June, July, August, September, October, November, December\n",
      "Input the name of Month: October\n",
      "No. of days: 31 day\n"
     ]
    }
   ],
   "source": [
    "## 5.\n",
    "print('List of months: January, February, March, April, May, June, July, August, September, October, November, December')\n",
    "\n",
    "month_name = input(\"Input the name of Month: \")\n",
    "\n",
    "if month_name == 'February':\n",
    "    print('No. of days: 28/29 days')\n",
    "elif month_name in ('April', 'June', 'September', 'November'):\n",
    "    print('No. of days: 30 days')\n",
    "elif month_name in ('January', 'March', 'May', 'July', 'August', 'October', 'December'):\n",
    "    print('No. of days: 31 day')\n",
    "else:\n",
    "    print('Error month name') "
   ]
  },
  {
   "cell_type": "code",
   "execution_count": 47,
   "id": "e23682fe",
   "metadata": {},
   "outputs": [
    {
     "name": "stdout",
     "output_type": "stream",
     "text": [
      "Enter the number of decibels: 105\n",
      "quieter than a lawn mower.\n"
     ]
    }
   ],
   "source": [
    "## 6.\n",
    "decibels = float(input(\"Enter the number of decibels: \"))\n",
    "\n",
    "if decibels > 0 and decibels < 40:\n",
    "    print('quieter than a quiet room.')\n",
    "\n",
    "elif decibels == 40:\n",
    "    print('about the same as a quiet room.')\n",
    "\n",
    "elif decibels > 40 and decibels < 70:\n",
    "    print('quieter than an alarm clock.')\n",
    "elif decibels == 70:\n",
    "    print('about the same as an alarm clock.')\n",
    "\n",
    "elif decibels > 70 and decibels < 106:\n",
    "    print('quieter than a lawn mower.')\n",
    "\n",
    "elif decibels == 106:\n",
    "    ('about the same as a lawn mower.')\n",
    "\n",
    "elif decibels > 106 and decibels < 130:\n",
    "    print(\" quieter than a jackhammer.\")\n",
    "\n",
    "elif decibels == 130:\n",
    "    print('about the same as a jackhammer.')\n",
    "    \n",
    "elif decibels > 130:\n",
    "    print('way too loud.')\n",
    "\n",
    "else:\n",
    "    print('Please enter a correct data value.')\n",
    "\n",
    "    print('Your sound level is')"
   ]
  },
  {
   "cell_type": "code",
   "execution_count": 51,
   "id": "d9934754",
   "metadata": {},
   "outputs": [
    {
     "name": "stdout",
     "output_type": "stream",
     "text": [
      "Enter the name of the note : 261.63\n",
      "The frequency of 261.63 is 14917.24 Hz.\n"
     ]
    }
   ],
   "source": [
    "## 7.\n",
    "note = input(\"Enter the name of the note : \")\n",
    "letter = note[0]\n",
    "octave = int(note[1])\n",
    "if letter == 'C':\n",
    "    n = -9\n",
    "elif letter == 'D':\n",
    "    n = -7\n",
    "elif letter == 'E':\n",
    "    n = -5\n",
    "elif letter == 'F':\n",
    "    n = -4\n",
    "elif letter == 'G':\n",
    "    n = -2\n",
    "elif letter == 'A':\n",
    "    n = 0\n",
    "else:\n",
    "    n = 2\n",
    "n += 12 + (octave * 12)\n",
    "frequency = 2 ** ((n - 49) / 12) * 440\n",
    "frequency /= 2 ** (4 - octave)\n",
    "print(\"The frequency of\", note, \"is\", round(frequency, 2), \"Hz.\")"
   ]
  },
  {
   "cell_type": "code",
   "execution_count": 52,
   "id": "906e87ea",
   "metadata": {},
   "outputs": [
    {
     "name": "stdout",
     "output_type": "stream",
     "text": [
      "Please enter a frequency: 392.00\n",
      "Note related to 392.0 frequency is B4\n"
     ]
    }
   ],
   "source": [
    "## 8.\n",
    "user_input = float(input(\"Please enter a frequency: \"))\n",
    "\n",
    "freq_c4 = 440.00\n",
    "freq_d4 = 493.88\n",
    "freq_e4 = 261.63\n",
    "freq_f4 = 293.66\n",
    "freq_g4 = 329.63\n",
    "freq_a4 = 349.23\n",
    "freq_b4 = 392.00\n",
    "set_limit = 1\n",
    "\n",
    "if user_input >= freq_c4 - set_limit and user_input <= freq_c4 + set_limit:\n",
    "    note = \"C4\"\n",
    "elif user_input >= freq_d4 - set_limit and user_input <= freq_d4 + set_limit:\n",
    "    note = \"D4\"\n",
    "elif user_input >= freq_e4 - set_limit and user_input <= freq_e4 + set_limit:\n",
    "    note = \"E4\"\n",
    "elif user_input >= freq_f4 - set_limit and user_input <= freq_f4 + set_limit:\n",
    "    note = \"F4\"\n",
    "elif user_input >= freq_g4 - set_limit and user_input <= freq_g4 + set_limit:\n",
    "    note = \"G4\"\n",
    "elif user_input >= freq_a4 - set_limit and user_input <= freq_a4 + set_limit:\n",
    "    note = \"A4\"\n",
    "elif user_input >= freq_b4 - set_limit and user_input <= freq_b4 + set_limit:\n",
    "    note = \"B4\"\n",
    "else:\n",
    "    note = \"\"\n",
    "\n",
    "\n",
    "if note == \"\":\n",
    "    print(\"No note corresponds to this frequency\")\n",
    "else:\n",
    "    print(\"Note related to {} frequency is {}\".format(user_input,note))"
   ]
  },
  {
   "cell_type": "code",
   "execution_count": 53,
   "id": "5bc4d79f",
   "metadata": {},
   "outputs": [
    {
     "name": "stdout",
     "output_type": "stream",
     "text": [
      "Enter the wavelength in nm: 495\n",
      "The color of the light is **Green**.\n"
     ]
    }
   ],
   "source": [
    "## 9.\n",
    "wavelength = float(input(\"Enter the wavelength in nm: \"))\n",
    "if wavelength < 380 or wavelength > 750:\n",
    "    print(\"Error: Wavelength must be between 380 and 750 nm.\")\n",
    "elif wavelength >= 380 and wavelength < 450:\n",
    "    print(\"The color of the light is **Violet**.\")\n",
    "elif wavelength >= 450 and wavelength < 495:\n",
    "    print(\"The color of the light is **Blue**.\")\n",
    "elif wavelength >= 495 and wavelength < 570:\n",
    "    print(\"The color of the light is **Green**.\")\n",
    "elif wavelength >= 570 and wavelength < 590:\n",
    "    print(\"The color of the light is **Yellow**.\")\n",
    "elif wavelength >= 590 and wavelength < 620:\n",
    "    print(\"The color of the light is **Orange**.\")\n",
    "else:\n",
    "    print(\"The color of the light is **Red**.\")"
   ]
  },
  {
   "cell_type": "markdown",
   "id": "65071cb1",
   "metadata": {},
   "source": [
    "#### List Statement"
   ]
  },
  {
   "cell_type": "code",
   "execution_count": 5,
   "id": "d3ad1b42",
   "metadata": {},
   "outputs": [
    {
     "name": "stdout",
     "output_type": "stream",
     "text": [
      "Enter a list of numbers separated by spaces: 4 10 3 2 5\n",
      "\n",
      "List with outliers removed: [4.0]\n",
      "Original list: [4.0, 10.0, 3.0, 2.0, 5.0]\n"
     ]
    }
   ],
   "source": [
    "def remove_extreme_values(values, n):\n",
    "    if len(values) < 4:\n",
    "        print(\"Error: At least 4 values are required.\")\n",
    "        return\n",
    "\n",
    "    sorted_values = sorted(values)\n",
    "    trimmed_values = sorted_values[n:-n]\n",
    "    \n",
    "    return trimmed_values\n",
    "\n",
    "def main():\n",
    "    try:\n",
    "        values = [float(x) for x in input(\"Enter a list of numbers separated by spaces: \").split()]\n",
    "        n = 2  # Number of extreme values to remove (2 largest and 2 smallest)\n",
    "\n",
    "        result = remove_extreme_values(values, n)\n",
    "\n",
    "        print(f\"\\nList with outliers removed: {result}\")\n",
    "        print(f\"Original list: {values}\")\n",
    "    except ValueError:\n",
    "        print(\"Error: Invalid input. Please enter valid numeric values.\")\n",
    "\n",
    "if __name__ == \"__main__\":\n",
    "    main()"
   ]
  },
  {
   "cell_type": "code",
   "execution_count": 7,
   "id": "389515df",
   "metadata": {},
   "outputs": [
    {
     "name": "stdout",
     "output_type": "stream",
     "text": [
      "Enter a string of text: Archana Rayaguru\n",
      "\n",
      "Words with punctuation marks removed:\n",
      "['Archana', 'Rayaguru']\n"
     ]
    }
   ],
   "source": [
    "import string\n",
    "\n",
    "def extract_words(text):\n",
    "    words = []\n",
    "    for word in text.split():\n",
    "        cleaned_word = word.strip(string.punctuation)\n",
    "        if cleaned_word:\n",
    "            words.append(cleaned_word)\n",
    "    return words\n",
    "\n",
    "def main():\n",
    "    user_input = input(\"Enter a string of text: \")\n",
    "    word_list = extract_words(user_input)\n",
    "\n",
    "    print(\"\\nWords with punctuation marks removed:\")\n",
    "    print(word_list)\n",
    "\n",
    "if __name__ == \"__main__\":\n",
    "    main()\n"
   ]
  },
  {
   "cell_type": "code",
   "execution_count": null,
   "id": "a12da472",
   "metadata": {},
   "outputs": [],
   "source": []
  },
  {
   "cell_type": "code",
   "execution_count": null,
   "id": "991bbb38",
   "metadata": {},
   "outputs": [],
   "source": []
  }
 ],
 "metadata": {
  "kernelspec": {
   "display_name": "Python 3 (ipykernel)",
   "language": "python",
   "name": "python3"
  },
  "language_info": {
   "codemirror_mode": {
    "name": "ipython",
    "version": 3
   },
   "file_extension": ".py",
   "mimetype": "text/x-python",
   "name": "python",
   "nbconvert_exporter": "python",
   "pygments_lexer": "ipython3",
   "version": "3.11.5"
  }
 },
 "nbformat": 4,
 "nbformat_minor": 5
}
